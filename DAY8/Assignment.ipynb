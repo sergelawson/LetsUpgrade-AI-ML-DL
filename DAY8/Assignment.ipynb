{
 "metadata": {
  "language_info": {
   "codemirror_mode": {
    "name": "ipython",
    "version": 3
   },
   "file_extension": ".py",
   "mimetype": "text/x-python",
   "name": "python",
   "nbconvert_exporter": "python",
   "pygments_lexer": "ipython3",
   "version": "3.8.3-final"
  },
  "orig_nbformat": 2,
  "kernelspec": {
   "name": "python3",
   "display_name": "Python 3"
  }
 },
 "nbformat": 4,
 "nbformat_minor": 2,
 "cells": [
  {
   "source": [
    "# Solution 1"
   ],
   "cell_type": "markdown",
   "metadata": {}
  },
  {
   "cell_type": "code",
   "execution_count": 15,
   "metadata": {
    "tags": []
   },
   "outputs": [
    {
     "output_type": "stream",
     "name": "stdout",
     "text": "Total price:  490\nPrice less than 100:  [10, 55, 75]\nPrice 20% of discount:  [7.5, 41.25, 112.5, 56.25, 150.0]\n"
    }
   ],
   "source": [
    "from functools import reduce\n",
    "price = [10, 55, 150, 75, 200]\n",
    "\n",
    "total_price = reduce(lambda total, value: total + value, price)\n",
    "print(\"Total price: \",total_price)\n",
    "\n",
    "small_price = filter(lambda a: a < 100, price)\n",
    "print(\"Price less than 100: \",list(small_price ))\n",
    "\n",
    "discount_price = map(lambda a: a - (a*25)/100 , price)\n",
    "print(\"Price 20% of discount: \",list(discount_price))\n"
   ]
  },
  {
   "source": [
    "# Solution 2"
   ],
   "cell_type": "markdown",
   "metadata": {}
  },
  {
   "cell_type": "code",
   "execution_count": 79,
   "metadata": {
    "tags": []
   },
   "outputs": [
    {
     "output_type": "stream",
     "name": "stdout",
     "text": "Car model:  Rolls Royce\nInitial fuel:  800\nAccelerate for 100mins\nDistance board:  800 km\nFuel when reached destinaition:  0\n"
    }
   ],
   "source": [
    "class car:\n",
    "\n",
    "    __model  = \"Default\"\n",
    "    __speed = 0\n",
    "    fuel = 0\n",
    "    __distance = 0\n",
    "    \n",
    "    def __init__(self, m):\n",
    "        self.__model = m\n",
    "\n",
    "    def accelerate(self, time):\n",
    "        while(self.fuel > 0):\n",
    "            self.__speed += 2\n",
    "            self.__distance =  self.__speed * time \n",
    "            self.fuel = self.fuel - (time * 2)\n",
    "        self.car_break()\n",
    "\n",
    "\n",
    "    def car_break(self):\n",
    "        self.__speed = 0 \n",
    "   \n",
    "\n",
    "    def get_model(self):\n",
    "        return self.__model\n",
    "\n",
    "    def get_speed(self):\n",
    "        return self.__speed\n",
    "\n",
    "    def get_distance(self):\n",
    "        return self.__distance\n",
    "\n",
    "car1 = car('Rolls Royce')\n",
    "print(\"Car model: \", car1.get_model())\n",
    "car1.fuel = 800\n",
    "print(\"Initial fuel: \", car1.fuel)\n",
    "print(\"Accelerate for 100mins\")\n",
    "car1.accelerate(100)\n",
    "print(\"Distance board: \", car1.get_distance(),'km')\n",
    "print(\"Fuel when reached destinaition: \", car1.fuel)\n"
   ]
  }
 ]
}