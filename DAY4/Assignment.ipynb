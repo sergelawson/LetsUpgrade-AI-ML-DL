{
 "metadata": {
  "language_info": {
   "codemirror_mode": {
    "name": "ipython",
    "version": 3
   },
   "file_extension": ".py",
   "mimetype": "text/x-python",
   "name": "python",
   "nbconvert_exporter": "python",
   "pygments_lexer": "ipython3",
   "version": "3.8.3-final"
  },
  "orig_nbformat": 2,
  "kernelspec": {
   "name": "python3",
   "display_name": "Python 3"
  }
 },
 "nbformat": 4,
 "nbformat_minor": 2,
 "cells": [
  {
   "cell_type": "markdown",
   "metadata": {},
   "source": [
    "# Solution 1"
   ]
  },
  {
   "cell_type": "code",
   "execution_count": 3,
   "metadata": {
    "tags": []
   },
   "outputs": [
    {
     "output_type": "stream",
     "name": "stdout",
     "text": "(5+7j)\n(-1-1j)\n(-6+17j)\n(0.72+0.04j)\n"
    }
   ],
   "source": [
    "a = 2 + 3j\n",
    "b = 3 + 4j\n",
    "print(a  + b) # Addition\n",
    "print(a - b) # Substraction\n",
    "print(a * b) # Mutliplication\n",
    "print( a / b) # Division\n",
    "# print( a // b) # Floor Division is not possible on complexe numbers\n",
    "# print(a % b) # Modulo operation is not possible on complexe numbers\n"
   ]
  },
  {
   "cell_type": "markdown",
   "metadata": {},
   "source": [
    "# Solution 2\n",
    "\n",
    "The range fuction is used to create a sequence of numbers used to iterate through a for loop. It takes a starting point and ending pionts as parametres. By default the starting point is 0 and ends at the number before the ending point"
   ]
  },
  {
   "cell_type": "code",
   "execution_count": 10,
   "metadata": {
    "tags": []
   },
   "outputs": [
    {
     "output_type": "stream",
     "name": "stdout",
     "text": "2\n3\n4\n5\n6\n7\n8\n9\n"
    }
   ],
   "source": [
    "for i in range(2, 10):\n",
    "    print(i)"
   ]
  },
  {
   "cell_type": "markdown",
   "metadata": {},
   "source": [
    "# Solution 3"
   ]
  },
  {
   "cell_type": "code",
   "execution_count": 12,
   "metadata": {
    "tags": []
   },
   "outputs": [
    {
     "output_type": "stream",
     "name": "stdout",
     "text": "2500\n"
    }
   ],
   "source": [
    "a = 100\n",
    "b = 25\n",
    "if (a - b > 25):\n",
    "    print(a*b)\n",
    "else: \n",
    "    print(a/b)"
   ]
  },
  {
   "cell_type": "markdown",
   "metadata": {},
   "source": [
    "# Solution 4"
   ]
  },
  {
   "cell_type": "code",
   "execution_count": 14,
   "metadata": {
    "tags": []
   },
   "outputs": [
    {
     "output_type": "stream",
     "name": "stdout",
     "text": "2\n34\n322\n482\n898\n"
    }
   ],
   "source": [
    "a = [2, 5, 6, 9, 15, 18, 22, 29, 30, 99]\n",
    "\n",
    "for i in a:\n",
    "    if(i % 2 == 0):\n",
    "        print((i**2) - 2)"
   ]
  },
  {
   "cell_type": "code",
   "execution_count": 15,
   "metadata": {
    "tags": []
   },
   "outputs": [
    {
     "output_type": "stream",
     "name": "stdout",
     "text": "15\n18\n22\n29\n30\n99\n"
    }
   ],
   "source": [
    "a = [2, 5, 6, 9, 15, 18, 22, 29, 30, 99]\n",
    "\n",
    "for i in a:\n",
    "    if(i / 2 > 7):\n",
    "        print(i)"
   ]
  }
 ]
}