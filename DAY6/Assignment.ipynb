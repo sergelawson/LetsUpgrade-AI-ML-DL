{
 "metadata": {
  "language_info": {
   "codemirror_mode": {
    "name": "ipython",
    "version": 3
   },
   "file_extension": ".py",
   "mimetype": "text/x-python",
   "name": "python",
   "nbconvert_exporter": "python",
   "pygments_lexer": "ipython3",
   "version": "3.8.3-final"
  },
  "orig_nbformat": 2,
  "kernelspec": {
   "name": "python3",
   "display_name": "Python 3"
  }
 },
 "nbformat": 4,
 "nbformat_minor": 2,
 "cells": [
  {
   "source": [
    "# Solution 1"
   ],
   "cell_type": "markdown",
   "metadata": {}
  },
  {
   "cell_type": "code",
   "execution_count": 3,
   "metadata": {
    "tags": []
   },
   "outputs": [
    {
     "output_type": "execute_result",
     "data": {
      "text/plain": "'facebook'"
     },
     "metadata": {},
     "execution_count": 3
    }
   ],
   "source": [
    "def extract(email):\n",
    "    return email.split('@')[1].split('.')[0]\n",
    "\n",
    "print(extract(\"serge@facebook.com\"))\n",
    "    "
   ]
  },
  {
   "source": [
    "# Solution 2"
   ],
   "cell_type": "markdown",
   "metadata": {}
  },
  {
   "cell_type": "code",
   "execution_count": 9,
   "metadata": {
    "tags": []
   },
   "outputs": [
    {
     "output_type": "stream",
     "name": "stdout",
     "text": "dwarf,lion,monkey,rabit,shark,snake,zebra\n"
    }
   ],
   "source": [
    "def arrange(input):\n",
    "    words = input.split(',')\n",
    "    words.sort()\n",
    "    return \",\".join(words)\n",
    "\n",
    "print(arrange('shark,monkey,lion,dwarf,snake,zebra,rabit'))"
   ]
  },
  {
   "source": [
    "# Solution 3"
   ],
   "cell_type": "markdown",
   "metadata": {}
  },
  {
   "cell_type": "code",
   "execution_count": 12,
   "metadata": {
    "tags": []
   },
   "outputs": [
    {
     "output_type": "stream",
     "name": "stdout",
     "text": "{'grape', 'watermelon', 'pineapple', 'apple', 'pawpaw', 'banana'}\n{'grape', 'watermelon', 'apple', 'pawpaw', 'banana'}\n{'grape', 'watermelon', 'apple', 'strawberry', 'pawpaw', 'banana'}\n{'lemon', 'grape', 'mango', 'watermelon', 'apple', 'strawberry', 'pawpaw', 'banana'}\nlemon\ngrape\nmango\nwatermelon\napple\nstrawberry\npawpaw\nbanana\n"
    }
   ],
   "source": [
    "fruits = {\"apple\", \"orange\", \"banana\", \"pineapple\", \"grape\", \"watermelon\", \"pawpaw\"}\n",
    "\n",
    "fruits.pop() \n",
    "print(fruits)\n",
    "\n",
    "fruits.discard(\"pineapple\")\n",
    "print(fruits)\n",
    "\n",
    "fruits.add(\"strawberry\")\n",
    "print(fruits)\n",
    "\n",
    "fruits.update({\"lemon\", \"mango\"})\n",
    "print(fruits)\n",
    "\n",
    "for fruit in fruits: \n",
    "    print(fruit)\n"
   ]
  },
  {
   "source": [
    "# Solution 4 "
   ],
   "cell_type": "markdown",
   "metadata": {}
  },
  {
   "cell_type": "code",
   "execution_count": 37,
   "metadata": {
    "tags": []
   },
   "outputs": [
    {
     "output_type": "stream",
     "name": "stdout",
     "text": "['apple', 'banana', 'berry', 'pineapple', 'grape']\n"
    }
   ],
   "source": [
    "def reduce(list):\n",
    "    accumulator = []\n",
    "    for l in list:\n",
    "        if not l in accumulator: \n",
    "                accumulator.append(l)\n",
    "    return accumulator\n",
    "\n",
    "print(reduce([\"apple\", \"banana\", \"berry\", \"banana\",\"pineapple\", \"grape\", \"apple\"]))"
   ]
  }
 ]
}