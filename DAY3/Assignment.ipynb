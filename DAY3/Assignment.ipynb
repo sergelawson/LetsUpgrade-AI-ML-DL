{
 "metadata": {
  "language_info": {
   "codemirror_mode": {
    "name": "ipython",
    "version": 3
   },
   "file_extension": ".py",
   "mimetype": "text/x-python",
   "name": "python",
   "nbconvert_exporter": "python",
   "pygments_lexer": "ipython3",
   "version": "3.8.3-final"
  },
  "orig_nbformat": 2,
  "kernelspec": {
   "name": "python3",
   "display_name": "Python 3"
  }
 },
 "nbformat": 4,
 "nbformat_minor": 2,
 "cells": [
  {
   "cell_type": "markdown",
   "metadata": {},
   "source": [
    "# Question 1"
   ]
  },
  {
   "cell_type": "code",
   "execution_count": 2,
   "metadata": {
    "tags": []
   },
   "outputs": [
    {
     "output_type": "stream",
     "name": "stdout",
     "text": "(7+5j)\n"
    }
   ],
   "source": [
    "a = 5 + 2j\n",
    "b = 2 + 3j\n",
    "print(a + b)"
   ]
  },
  {
   "cell_type": "markdown",
   "metadata": {},
   "source": [
    "# Question 2"
   ]
  },
  {
   "cell_type": "code",
   "execution_count": 4,
   "metadata": {
    "tags": []
   },
   "outputs": [
    {
     "output_type": "stream",
     "name": "stdout",
     "text": "2\n"
    }
   ],
   "source": [
    "import math\n",
    "\n",
    "a = 16\n",
    "b = math.sqrt(a)\n",
    "c = int(math.sqrt(b))\n",
    "print(c)\n"
   ]
  },
  {
   "cell_type": "markdown",
   "metadata": {},
   "source": [
    "# Question 3"
   ]
  },
  {
   "cell_type": "code",
   "execution_count": 5,
   "metadata": {
    "tags": []
   },
   "outputs": [
    {
     "output_type": "stream",
     "name": "stdout",
     "text": "value of a : 11 \nvalue of b : 14\n"
    }
   ],
   "source": [
    "a = 14 \n",
    "b = 11\n",
    "c = a\n",
    "a = b \n",
    "b = c\n",
    "print('value of a :', a, '\\nvalue of b :', b)"
   ]
  },
  {
   "cell_type": "markdown",
   "metadata": {},
   "source": [
    "# Question 4"
   ]
  },
  {
   "cell_type": "code",
   "execution_count": 6,
   "metadata": {
    "tags": []
   },
   "outputs": [
    {
     "output_type": "stream",
     "name": "stdout",
     "text": "value of a : 16 \nvalue of b : 12\n"
    }
   ],
   "source": [
    "a = 12 \n",
    "b = 16\n",
    "a, b = b, a\n",
    "print('value of a :', a, '\\nvalue of b :', b)"
   ]
  },
  {
   "cell_type": "markdown",
   "metadata": {},
   "source": [
    "# Question 5\n",
    "\n"
   ]
  },
  {
   "cell_type": "code",
   "execution_count": 13,
   "metadata": {
    "tags": []
   },
   "outputs": [
    {
     "output_type": "stream",
     "name": "stdout",
     "text": "275.3722222222222  °K\n"
    }
   ],
   "source": [
    "a = 36\n",
    "b = (a - 32) * 5/9 + 273.15 \n",
    "print(b, ' °K')\n"
   ]
  },
  {
   "cell_type": "markdown",
   "metadata": {},
   "source": [
    "# Question 6"
   ]
  },
  {
   "cell_type": "code",
   "execution_count": 14,
   "metadata": {
    "tags": []
   },
   "outputs": [
    {
     "output_type": "stream",
     "name": "stdout",
     "text": "<class 'str'>\n<class 'int'>\n<class 'float'>\n<class 'NoneType'>\n<class 'bool'>\n<class 'dict'>\n<class 'tuple'>\n<class 'list'>\n"
    }
   ],
   "source": [
    "print(type('LetsUpgrade AI ML DL'))\n",
    "print(type(21))\n",
    "print(type(35.5))\n",
    "print(type(None))\n",
    "print(type(True))\n",
    "print(type({a: \"Red\", b: \"Blue\", c: \"White\"}))\n",
    "print(type((2, 3, 3)))\n",
    "print(type(['apple', 'samsung', 'google', 'tesla']))"
   ]
  }
 ]
}