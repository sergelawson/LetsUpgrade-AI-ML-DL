{
 "metadata": {
  "language_info": {
   "codemirror_mode": {
    "name": "ipython",
    "version": 3
   },
   "file_extension": ".py",
   "mimetype": "text/x-python",
   "name": "python",
   "nbconvert_exporter": "python",
   "pygments_lexer": "ipython3",
   "version": "3.8.3-final"
  },
  "orig_nbformat": 2,
  "kernelspec": {
   "name": "python3",
   "display_name": "Python 3"
  }
 },
 "nbformat": 4,
 "nbformat_minor": 2,
 "cells": [
  {
   "source": [
    "# Solution 1"
   ],
   "cell_type": "markdown",
   "metadata": {}
  },
  {
   "cell_type": "code",
   "execution_count": 10,
   "metadata": {
    "tags": []
   },
   "outputs": [
    {
     "output_type": "stream",
     "name": "stdout",
     "text": "Hello \nWorld\nCome\nAnd \nSave\nMe \nFrom\nCOVID 19\n"
    }
   ],
   "source": [
    "with open('input.txt', 'r') as reader:\n",
    "    content = reader.read()\n",
    "\n",
    "with open('output.txt', 'w') as writer: \n",
    "    writer.write(content)\n",
    "\n",
    "with open('output.txt', 'r') as reader:\n",
    "    content = reader.read()\n",
    "    print(content)\n"
   ]
  },
  {
   "source": [
    "# SOlution 2"
   ],
   "cell_type": "markdown",
   "metadata": {}
  },
  {
   "cell_type": "code",
   "execution_count": 15,
   "metadata": {
    "tags": []
   },
   "outputs": [
    {
     "output_type": "stream",
     "name": "stdout",
     "text": "{'max': 5, 'min': 1}\n"
    }
   ],
   "source": [
    "def min_max(input):\n",
    "    min = None\n",
    "    max = None\n",
    "\n",
    "    for i in input:\n",
    "        if(min == None) : min = input[i]\n",
    "        if(max == None) : max = input[i]\n",
    "        \n",
    "        if(input[i] < min) : min = input[i]\n",
    "        if(input[i] > max) : max = input[i] \n",
    "    return({\"max\": max, \"min\": min})\n",
    "\n",
    "print(min_max({\"w\": 2, \"d\": 5, \"f\": 1}))\n"
   ]
  }
 ]
}