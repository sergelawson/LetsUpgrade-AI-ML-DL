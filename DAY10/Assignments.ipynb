{
 "cells": [
  {
   "cell_type": "markdown",
   "metadata": {},
   "source": [
    "# Solution 1"
   ]
  },
  {
   "cell_type": "code",
   "execution_count": 7,
   "metadata": {
    "tags": []
   },
   "outputs": [
    {
     "name": "stdout",
     "output_type": "stream",
     "text": [
      "[False False False  True  True  True]\n",
      "[False False False  True  True  True]\n",
      "[ True  True  True False False False]\n",
      "[ True  True  True False False False]\n"
     ]
    }
   ],
   "source": [
    "import numpy as np \n",
    "\n",
    "a  = np.array([1, 2, 3, 4, 5, 6])\n",
    "b = np.array([6, 5, 4, 3, 2, 1])\n",
    "\n",
    "print(a > b)\n",
    "print(a >= b)\n",
    "print(a < b)\n",
    "print(a <= b)"
   ]
  },
  {
   "cell_type": "markdown",
   "metadata": {},
   "source": [
    "# Solution 2"
   ]
  },
  {
   "cell_type": "code",
   "execution_count": 9,
   "metadata": {
    "tags": []
   },
   "outputs": [
    {
     "output_type": "stream",
     "name": "stdout",
     "text": [
      "[0. 0. 0. 0. 0. 0. 0. 0. 0. 0.]\n[1. 1. 1. 1. 1. 1. 1. 1. 1. 1.]\n[5 5 5 5 5 5 5 5 5 5]\n"
     ]
    }
   ],
   "source": [
    "import numpy as np \n",
    "a = np.zeros(10)\n",
    "print(a)\n",
    "\n",
    "b = np.ones(10)\n",
    "print(b)\n",
    "\n",
    "c = np.full(10, 5)\n",
    "print(c)\n"
   ]
  },
  {
   "source": [
    "# Solution 3\n"
   ],
   "cell_type": "markdown",
   "metadata": {}
  },
  {
   "cell_type": "code",
   "execution_count": 7,
   "metadata": {},
   "outputs": [
    {
     "output_type": "stream",
     "name": "stdout",
     "text": [
      "35\n[ 7  7  9 12]\n[18 17]\n"
     ]
    }
   ],
   "source": [
    "import numpy as np \n",
    "\n",
    "a = np.array([[5, 3, 3, 7], [2, 4, 6, 5]])\n",
    "\n",
    "print(np.sum(a))\n",
    "print(np.sum(a, axis=0))\n",
    "print(np.sum(a, axis=1))"
   ]
  },
  {
   "source": [
    "# Solution 4"
   ],
   "cell_type": "markdown",
   "metadata": {}
  },
  {
   "cell_type": "code",
   "execution_count": 13,
   "metadata": {},
   "outputs": [
    {
     "output_type": "stream",
     "name": "stdout",
     "text": [
      "[[ 9  8 14 16]\n [13 13  5  5]]\n[[-1  2  0  0]\n [ 1 -3  1 -3]]\n[[20 15 49 64]\n [42 40  6  4]]\n[[0.8        1.66666667 1.         1.        ]\n [1.16666667 0.625      1.5        0.25      ]]\n"
     ]
    }
   ],
   "source": [
    "import numpy as np\n",
    "\n",
    "a = np.array([[4,5,7,8], [7,5,3,1]])\n",
    "b = np.array([[5,3,7,8], [6,8,2,4]])\n",
    "\n",
    "c = np.add(a, b)\n",
    "print(c)\n",
    "d = np.subtract(a, b)\n",
    "print(d)\n",
    "e = np.multiply(a, b)\n",
    "print(e)\n",
    "f = np.divide(a, b)\n",
    "print(f)"
   ]
  },
  {
   "source": [
    "# Solution 5"
   ],
   "cell_type": "markdown",
   "metadata": {}
  },
  {
   "cell_type": "code",
   "execution_count": 16,
   "metadata": {},
   "outputs": [
    {
     "output_type": "stream",
     "name": "stdout",
     "text": [
      "[ 0.85090352  0.89399666 -0.80115264]\n[ 0.52532199 -0.44807362 -0.59846007]\n[ 1.61977519 -1.99520041  1.33869021]\n"
     ]
    }
   ],
   "source": [
    "a = np.array([45, 90, 180])\n",
    "\n",
    "sinus = np.sin(a)\n",
    "print(sinus)\n",
    "\n",
    "cos = np.cos(a)\n",
    "print(cos)\n",
    "\n",
    "tan = np.tan(a)\n",
    "print(tan)"
   ]
  },
  {
   "source": [
    "# Solution 6"
   ],
   "cell_type": "markdown",
   "metadata": {}
  },
  {
   "cell_type": "code",
   "execution_count": 10,
   "metadata": {},
   "outputs": [
    {
     "output_type": "stream",
     "name": "stdout",
     "text": [
      "      name  age  score\n0    Messi   33    9.5\n1  Ronaldo   35    9.0\n2   Neymar   28    8.8\n3   Mbappe   21    8.5\n4   Halaad   19    8.0\n"
     ]
    }
   ],
   "source": [
    "import pandas as pd \n",
    "\n",
    "d = {\"name\": [\"Messi\", \"Ronaldo\", \"Neymar\", \"Mbappe\", \"Halaad\"], \"age\":[33, 35, 28, 21, 19], \"score\": [9.5, 9, 8.8, 8.5, 8]}\n",
    "\n",
    "df = pd.DataFrame(d)\n",
    "\n",
    "print(df)"
   ]
  },
  {
   "source": [
    "# Solution 7"
   ],
   "cell_type": "markdown",
   "metadata": {}
  },
  {
   "cell_type": "code",
   "execution_count": 17,
   "metadata": {},
   "outputs": [
    {
     "output_type": "stream",
     "name": "stdout",
     "text": [
      "      name  score\n0    Messi    9.5\n1  Ronaldo    9.0\n2   Neymar    8.8\n3   Mbappe    8.5\n4   Halaad    8.0\n"
     ]
    }
   ],
   "source": [
    "import pandas as pd \n",
    "d = {\"name\": [\"Messi\", \"Ronaldo\", \"Neymar\", \"Mbappe\", \"Halaad\"], \"age\":[33, 35, 28, 21, 19], \"score\": [9.5, 9, 8.8, 8.5, 8]}\n",
    "dd = pd.DataFrame(d, columns=[\"name\", \"score\"])\n",
    "print(dd)"
   ]
  },
  {
   "source": [
    "# Solution 8"
   ],
   "cell_type": "markdown",
   "metadata": {}
  },
  {
   "cell_type": "code",
   "execution_count": 20,
   "metadata": {},
   "outputs": [
    {
     "output_type": "stream",
     "name": "stdout",
     "text": [
      "             name  age  score\n0           Messi   33    9.5\n1         Ronaldo   35    9.0\n2          Neymar   28    8.8\n3          Mbappe   21    8.5\n4          Halaad   19    8.0\n0        Rashford   22    8.0\n1       Ansu Fati   18    8.0\n2  Bruno Frenades   22    8.8\n3   Kevin Debruyn   28    9.0\n4           Salah   26    8.0\n"
     ]
    }
   ],
   "source": [
    "import pandas as pd \n",
    "d = {\"name\": [\"Messi\", \"Ronaldo\", \"Neymar\", \"Mbappe\", \"Halaad\"], \"age\":[33, 35, 28, 21, 19], \"score\": [9.5, 9, 8.8, 8.5, 8]}\n",
    "a = {\"name\": [\"Rashford\", \"Ansu Fati\", \"Bruno Frenades\", \"Kevin Debruyn\", \"Salah\"], \"age\":[22, 18, 22, 28, 26], \"score\": [8, 8, 8.8, 9, 8]}\n",
    "\n",
    "df = pd.DataFrame(d)\n",
    "dd = pd.DataFrame(a)\n",
    "\n",
    "print(pd.concat([df, dd]))"
   ]
  },
  {
   "source": [
    "# Solution 9"
   ],
   "cell_type": "markdown",
   "metadata": {}
  },
  {
   "cell_type": "code",
   "execution_count": 26,
   "metadata": {},
   "outputs": [
    {
     "output_type": "stream",
     "name": "stdout",
     "text": [
      "    name    age  score\n0  False  False  False\n1  False  False  False\n2  False  False   True\n3  False   True  False\n4  False  False   True\n"
     ]
    }
   ],
   "source": [
    "import pandas as pd \n",
    "import numpy as np \n",
    "d = {\"name\": [\"Messi\", \"Ronaldo\", \"Neymar\", \"Mbappe\", \"Halaad\"], \"age\":[33, 35, 28, np.nan, 21], \"score\": [9.5, 9, np.nan, 8, np.nan]}\n",
    "df = pd.DataFrame(d)\n",
    "print(df.isnull())"
   ]
  },
  {
   "source": [
    "# Solution 10\n"
   ],
   "cell_type": "markdown",
   "metadata": {}
  },
  {
   "cell_type": "code",
   "execution_count": 32,
   "metadata": {},
   "outputs": [
    {
     "output_type": "stream",
     "name": "stdout",
     "text": [
      "  color\n    red\n  green\n   blue\n yellow\n"
     ]
    }
   ],
   "source": [
    "import pandas as pd \n",
    "color = {\"color\": ['red', 'green', 'blue',\"yellow\"]}\n",
    "\n",
    "dd = pd.DataFrame(color)\n",
    "\n",
    "print(dd.to_string(index=False))"
   ]
  }
 ],
 "metadata": {
  "kernelspec": {
   "display_name": "Python 3",
   "language": "python",
   "name": "python3"
  },
  "language_info": {
   "codemirror_mode": {
    "name": "ipython",
    "version": 3
   },
   "file_extension": ".py",
   "mimetype": "text/x-python",
   "name": "python",
   "nbconvert_exporter": "python",
   "pygments_lexer": "ipython3",
   "version": "3.8.3-final"
  }
 },
 "nbformat": 4,
 "nbformat_minor": 2
}