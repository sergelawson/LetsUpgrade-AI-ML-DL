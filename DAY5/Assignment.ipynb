{
 "metadata": {
  "language_info": {
   "codemirror_mode": {
    "name": "ipython",
    "version": 3
   },
   "file_extension": ".py",
   "mimetype": "text/x-python",
   "name": "python",
   "nbconvert_exporter": "python",
   "pygments_lexer": "ipython3",
   "version": "3.8.3-final"
  },
  "orig_nbformat": 2,
  "kernelspec": {
   "name": "python3",
   "display_name": "Python 3"
  }
 },
 "nbformat": 4,
 "nbformat_minor": 2,
 "cells": [
  {
   "cell_type": "markdown",
   "metadata": {},
   "source": [
    "# Solution 1\n"
   ]
  },
  {
   "cell_type": "code",
   "execution_count": 10,
   "metadata": {
    "tags": []
   },
   "outputs": [
    {
     "output_type": "stream",
     "name": "stdout",
     "text": "[3, 5, 7, 11, 13, 17, 19, 23, 29, 31, 37, 41, 43, 47, 53, 59, 61, 67, 71, 73]\n"
    }
   ],
   "source": [
    "import math\n",
    "def isPrimeNoneEven(n):\n",
    "    if (n % 2 == 0 or n <= 2): return False\n",
    "    \n",
    "    y = range(3, int(math.sqrt(n) + 1))\n",
    "    for i in y: \n",
    "        if n % i == 0 : return False\n",
    "    \n",
    "    return True\n",
    "prime_number = []\n",
    "count = 0\n",
    "number = 0\n",
    "while(count < 20):\n",
    "    if (isPrimeNoneEven(number)): \n",
    "        prime_number.append(number)\n",
    "        count += 1\n",
    "        number += 1\n",
    "    else: \n",
    "        number += 1\n",
    "print(prime_number)"
   ]
  },
  {
   "cell_type": "markdown",
   "metadata": {},
   "source": [
    "# Solution 2"
   ]
  },
  {
   "cell_type": "code",
   "execution_count": 16,
   "metadata": {
    "tags": []
   },
   "outputs": [
    {
     "output_type": "stream",
     "name": "stdout",
     "text": "I'm really having fun during lets upgrade ai ml bootcamp\ni'm really having fun during lets upgrade ai ml bootcamp\n1\n48\n18\nFalse\nFalse\nFalse\nFalse\nFalse\nTrue\nFalse\npython is used for machine learning\ni'm really having fun during lets upgrade ai ml bootcamp\n[\"i'm\", 'really', 'having', 'fun', 'during', 'lets', 'upgrade', 'ai', 'ml', 'bootcamp']\n"
    }
   ],
   "source": [
    "a = \"i'm really having fun during lets upgrade ai ml bootcamp\"\n",
    "print(a.capitalize())\t# Converts the first character to upper case\n",
    "\n",
    "print(a.center(10))\t# Returns a centered string\n",
    "\n",
    "print(a.count('fun'))\t# Returns the number of times a specified value occurs in a string\n",
    "print(a.find(\"bootcamp\"))\t# Searches the string for a specified value and returns the position of where it was found\n",
    "print(a.index('fun'))\t# Searches the string for a specified value and returns the position of where it was found\n",
    "print(a.isalnum())\t# Returns True if all characters in the string are alphanumeric\n",
    "print(a.isalpha())\t# Returns True if all characters in the string are in the alphabet\n",
    "print(a.isdecimal())\t# Returns True if all characters in the string are decimals\n",
    "print(a.isdigit())\t# Returns True if all characters in the string are digits\n",
    "print(a.isidentifier())\t# Returns True if the string is an identifier\n",
    "print(a.islower())\t# Returns True if all characters in the string are lower case\n",
    "print(a.isnumeric())\t# Returns True if all characters in the string are numeric\n",
    "print(\" \".join([\"python\", \"is\", \"used\", \"for\", \"machine\", \"learning\"]))\t# Joins the elements of an iterable to the end of the string\n",
    "print(a.lower())\t# Converts a string into lower case\n",
    "print(a.split(\" \"))\t# Splits the string at the specified separator, and returns a list\n"
   ]
  },
  {
   "cell_type": "markdown",
   "metadata": {},
   "source": [
    "# Solution 3"
   ]
  },
  {
   "cell_type": "code",
   "execution_count": 64,
   "metadata": {
    "tags": []
   },
   "outputs": [
    {
     "output_type": "stream",
     "name": "stdout",
     "text": "is not palindrome\nis anagram\n"
    }
   ],
   "source": [
    "def isPalindrome(txt):\n",
    "    reversed = txt[::-1]\n",
    "    return True if txt == reversed else False\n",
    "\n",
    "def countAll(txt, e): \n",
    "    count = 0\n",
    "    index = 0\n",
    "    for i in txt:\n",
    "        if (i == e):\n",
    "            count += 1        \n",
    "    return count\n",
    "\n",
    "\n",
    "def isAnagram(txt, agm):\n",
    "    size1 = len(txt)\n",
    "    size2 = len(agm)\n",
    "    if (size1 == size2): \n",
    "        for i in txt:\n",
    "            if not( countAll(txt, i) == countAll(agm, i)):\n",
    "                return False\n",
    "    else : \n",
    "        return False\n",
    "    return True\n",
    "\n",
    "phrase = \"machine learning\"\n",
    "r_phrase = \"learning machine\"\n",
    "    \n",
    "print(\"is palindrome\") if isPalindrome(phrase) else print(\"is not palindrome\")\n",
    "print(\"is anagram\") if isAnagram(phrase, r_phrase) else print(\"is not anagram\")\n",
    "\n",
    "\n",
    "\n"
   ]
  },
  {
   "cell_type": "markdown",
   "metadata": {},
   "source": [
    "# Solution 4"
   ]
  },
  {
   "cell_type": "code",
   "execution_count": 68,
   "metadata": {},
   "outputs": [
    {
     "output_type": "execute_result",
     "data": {
      "text/plain": "'drdarshaningleaimltrainer'"
     },
     "metadata": {},
     "execution_count": 68
    }
   ],
   "source": [
    "def normalize(txt):\n",
    "    phrase = []\n",
    "    for i in txt : \n",
    "        if (i.isalpha()):\n",
    "            phrase.append(i.lower())\n",
    "    return \"\".join(phrase)\n",
    "normalize(\"Dr. Darshan Ingle @AIML Trainer\")\n"
   ]
  }
 ]
}